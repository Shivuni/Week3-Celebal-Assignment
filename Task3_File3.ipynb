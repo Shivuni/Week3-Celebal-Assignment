{
  "nbformat": 4,
  "nbformat_minor": 0,
  "metadata": {
    "colab": {
      "name": "Task3_File3.ipynb",
      "provenance": [],
      "collapsed_sections": []
    },
    "kernelspec": {
      "name": "python3",
      "display_name": "Python 3"
    },
    "language_info": {
      "name": "python"
    }
  },
  "cells": [
    {
      "cell_type": "markdown",
      "source": [
        "**Document No 3**\n",
        "1. Built-In Functions\n",
        "2. Built-In Methods Of List,Tuple,Set and Dictionary"
      ],
      "metadata": {
        "id": "Ju9jXG6WgFmW"
      }
    },
    {
      "cell_type": "markdown",
      "source": [
        "**1. Built-In Functions**"
      ],
      "metadata": {
        "id": "r_achF65ORG5"
      }
    },
    {
      "cell_type": "markdown",
      "source": [
        "abs() :  It Returns the absolute value of a number"
      ],
      "metadata": {
        "id": "R4r0wRLAE55d"
      }
    },
    {
      "cell_type": "code",
      "source": [
        "b= abs(-5.25)\n",
        "print(b)"
      ],
      "metadata": {
        "colab": {
          "base_uri": "https://localhost:8080/"
        },
        "id": "weJOXOzJE0Yw",
        "outputId": "81e0736b-2fab-4749-bd12-ed526f34ca86"
      },
      "execution_count": 1,
      "outputs": [
        {
          "output_type": "stream",
          "name": "stdout",
          "text": [
            "5.25\n"
          ]
        }
      ]
    },
    {
      "cell_type": "markdown",
      "source": [
        "bool() :Returns the boolean value of the specified object "
      ],
      "metadata": {
        "id": "SWHYV79UFXht"
      }
    },
    {
      "cell_type": "code",
      "source": [
        "a = bool(1)\n",
        "print(a)"
      ],
      "metadata": {
        "colab": {
          "base_uri": "https://localhost:8080/"
        },
        "id": "gjaTQO55Fe6v",
        "outputId": "2c523626-a6eb-440c-e798-5d60b2932ab1"
      },
      "execution_count": 6,
      "outputs": [
        {
          "output_type": "stream",
          "name": "stdout",
          "text": [
            "True\n"
          ]
        }
      ]
    },
    {
      "cell_type": "markdown",
      "source": [
        "dict() :Returns a dictionary (Array)"
      ],
      "metadata": {
        "id": "TYqdU613GPuH"
      }
    },
    {
      "cell_type": "code",
      "source": [
        "h = dict(name = \"Shivani\", branch = \"IT\", country = \"India\")\n",
        "\n",
        "print(h)"
      ],
      "metadata": {
        "colab": {
          "base_uri": "https://localhost:8080/"
        },
        "id": "fG-MIvWvG0Nv",
        "outputId": "a9d0f2d3-be53-4244-e245-d14ac11531c8"
      },
      "execution_count": 8,
      "outputs": [
        {
          "output_type": "stream",
          "name": "stdout",
          "text": [
            "{'name': 'Shivani', 'branch': 'IT', 'country': 'India'}\n"
          ]
        }
      ]
    },
    {
      "cell_type": "markdown",
      "source": [
        "enumerate() :Takes a collection (e.g. a tuple) and returns it as an enumerate object"
      ],
      "metadata": {
        "id": "sOkVBff-Hc94"
      }
    },
    {
      "cell_type": "code",
      "source": [
        "X=(\"Red\",\"Yellow\",\"Blue\")\n",
        "Y=enumerate(X)\n",
        "print(list(Y))"
      ],
      "metadata": {
        "colab": {
          "base_uri": "https://localhost:8080/"
        },
        "id": "C62hdVqaIao5",
        "outputId": "b2fa8dca-6df3-41ca-f590-4e937acc0dc8"
      },
      "execution_count": 10,
      "outputs": [
        {
          "output_type": "stream",
          "name": "stdout",
          "text": [
            "[(0, 'Red'), (1, 'Yellow'), (2, 'Blue')]\n"
          ]
        }
      ]
    },
    {
      "cell_type": "markdown",
      "source": [
        "format(): It Formats a specific value"
      ],
      "metadata": {
        "id": "moV1F7RVIzCT"
      }
    },
    {
      "cell_type": "code",
      "source": [
        "d= format(5,'%')\n",
        "print(d)"
      ],
      "metadata": {
        "colab": {
          "base_uri": "https://localhost:8080/"
        },
        "id": "Yl4XlmNCI4xv",
        "outputId": "290383cc-a7d0-4ed5-809b-0fdf6de752ce"
      },
      "execution_count": 12,
      "outputs": [
        {
          "output_type": "stream",
          "name": "stdout",
          "text": [
            "500.000000%\n"
          ]
        }
      ]
    },
    {
      "cell_type": "code",
      "source": [
        "f=format(3,'+')\n",
        "print(f)"
      ],
      "metadata": {
        "colab": {
          "base_uri": "https://localhost:8080/"
        },
        "id": "hyJ74jy0J0Td",
        "outputId": "7f23e359-690a-4ba0-f830-aa9510f2d733"
      },
      "execution_count": 14,
      "outputs": [
        {
          "output_type": "stream",
          "name": "stdout",
          "text": [
            "+3\n"
          ]
        }
      ]
    },
    {
      "cell_type": "markdown",
      "source": [
        "frozenset() : Return frozenset object"
      ],
      "metadata": {
        "id": "R_K91JxvJ-_h"
      }
    },
    {
      "cell_type": "code",
      "source": [
        "q=[\"IT\",\"E&TC\",\"Electrical\",\"Mechanical\"]\n",
        "r=frozenset(q)\n",
        "print(r)"
      ],
      "metadata": {
        "colab": {
          "base_uri": "https://localhost:8080/"
        },
        "id": "GldKus8QKG9c",
        "outputId": "b75bc0f9-a8df-44a3-87a1-c9df49c97ab3"
      },
      "execution_count": 15,
      "outputs": [
        {
          "output_type": "stream",
          "name": "stdout",
          "text": [
            "frozenset({'IT', 'Electrical', 'Mechanical', 'E&TC'})\n"
          ]
        }
      ]
    },
    {
      "cell_type": "markdown",
      "source": [
        "hex() : converts number into hexadecimal value"
      ],
      "metadata": {
        "id": "pMm-o-AEKgec"
      }
    },
    {
      "cell_type": "code",
      "source": [
        "w=hex(15)\n",
        "print(w)"
      ],
      "metadata": {
        "colab": {
          "base_uri": "https://localhost:8080/"
        },
        "id": "akobFUMQK0kx",
        "outputId": "e7679144-27bc-4497-8aaa-a62ed7ade66e"
      },
      "execution_count": 16,
      "outputs": [
        {
          "output_type": "stream",
          "name": "stdout",
          "text": [
            "0xf\n"
          ]
        }
      ]
    },
    {
      "cell_type": "markdown",
      "source": [
        "map() :Returns the specified iterator with the specified function applied to each item\n"
      ],
      "metadata": {
        "id": "wjhlO5stLAlC"
      }
    },
    {
      "cell_type": "code",
      "source": [
        "def func(a):\n",
        "  return len(a)\n",
        "\n",
        "b=map(func,(\"red\",\"yellow\",\"green\"))\n",
        "print(b)\n",
        "\n",
        "print(list(b))"
      ],
      "metadata": {
        "colab": {
          "base_uri": "https://localhost:8080/"
        },
        "id": "G8X6bOjFLF4e",
        "outputId": "23163740-1a9a-4a4f-e578-68564ffd6267"
      },
      "execution_count": 17,
      "outputs": [
        {
          "output_type": "stream",
          "name": "stdout",
          "text": [
            "<map object at 0x7f85fe8369d0>\n",
            "[3, 6, 5]\n"
          ]
        }
      ]
    },
    {
      "cell_type": "markdown",
      "source": [
        "ord() : Convert an integer representing the Unicode of the specified character"
      ],
      "metadata": {
        "id": "co8HGI8FLsNT"
      }
    },
    {
      "cell_type": "code",
      "source": [
        "t=ord(\"s\")\n",
        "print(t)"
      ],
      "metadata": {
        "colab": {
          "base_uri": "https://localhost:8080/"
        },
        "id": "-971qvp6LuqR",
        "outputId": "06aeffbf-9b85-4cf6-8656-94492040751a"
      },
      "execution_count": 18,
      "outputs": [
        {
          "output_type": "stream",
          "name": "stdout",
          "text": [
            "115\n"
          ]
        }
      ]
    },
    {
      "cell_type": "markdown",
      "source": [
        "reversed() : Returns a reversed iterator "
      ],
      "metadata": {
        "id": "lng3lLTRL9RO"
      }
    },
    {
      "cell_type": "code",
      "source": [
        "d=[\"a\",\"b\",\"c\",\"e\"]\n",
        "y=reversed(d)\n",
        "for ele in y :\n",
        "  print(ele)"
      ],
      "metadata": {
        "colab": {
          "base_uri": "https://localhost:8080/"
        },
        "id": "rPsxVzY6MFHD",
        "outputId": "2571861e-dfbc-4a7c-db1f-87e36a70c424"
      },
      "execution_count": 20,
      "outputs": [
        {
          "output_type": "stream",
          "name": "stdout",
          "text": [
            "e\n",
            "c\n",
            "b\n",
            "a\n"
          ]
        }
      ]
    },
    {
      "cell_type": "markdown",
      "source": [
        "sorted() : returns sorted list"
      ],
      "metadata": {
        "id": "JNBl2GERMhvc"
      }
    },
    {
      "cell_type": "code",
      "source": [
        "h=(\"apple\",\"orange\",\"mango\")\n",
        "v=sorted(h)\n",
        "print(v)"
      ],
      "metadata": {
        "colab": {
          "base_uri": "https://localhost:8080/"
        },
        "id": "G2pwNhyTMkLw",
        "outputId": "122cccf5-b320-4791-becc-7d30858d9348"
      },
      "execution_count": 22,
      "outputs": [
        {
          "output_type": "stream",
          "name": "stdout",
          "text": [
            "['apple', 'mango', 'orange']\n"
          ]
        }
      ]
    },
    {
      "cell_type": "markdown",
      "source": [
        "super() : returns an object that represents the parent class"
      ],
      "metadata": {
        "id": "BdPnize1M1L7"
      }
    },
    {
      "cell_type": "code",
      "source": [
        "class Parent:\n",
        "  def __init__(self,txt):\n",
        "    self.message=txt\n",
        "\n",
        "  def printmessage(self):\n",
        "    print(self.message)\n",
        "\n",
        "class Child(Parent):\n",
        "  def __init__(self,txt):\n",
        "    super().__init__(txt)\n",
        "x= Child(\"hello\")\n",
        "x.printmessage()"
      ],
      "metadata": {
        "colab": {
          "base_uri": "https://localhost:8080/"
        },
        "id": "LCC5iovCM9Mr",
        "outputId": "06ddb0e2-51e6-4e96-92aa-c13bc5e4b657"
      },
      "execution_count": 24,
      "outputs": [
        {
          "output_type": "stream",
          "name": "stdout",
          "text": [
            "hello\n"
          ]
        }
      ]
    },
    {
      "cell_type": "markdown",
      "source": [
        "**2. Built-In Methods of List**"
      ],
      "metadata": {
        "id": "fwz8CB5FOFiZ"
      }
    },
    {
      "cell_type": "markdown",
      "source": [
        "append() : Add an element at the end of the list"
      ],
      "metadata": {
        "id": "m9GcFoBjOI6n"
      }
    },
    {
      "cell_type": "code",
      "source": [
        "color =[\"red\",\"white\",\"pink\",\"blue\"]\n",
        "color.append(\"black\")\n",
        "print(color)"
      ],
      "metadata": {
        "colab": {
          "base_uri": "https://localhost:8080/"
        },
        "id": "K42UTr77PXg5",
        "outputId": "e5c98a16-5176-4d80-91ed-6dc423f5e30b"
      },
      "execution_count": 25,
      "outputs": [
        {
          "output_type": "stream",
          "name": "stdout",
          "text": [
            "['red', 'white', 'pink', 'blue', 'black']\n"
          ]
        }
      ]
    },
    {
      "cell_type": "markdown",
      "source": [
        "copy() : Returns a copy of the list"
      ],
      "metadata": {
        "id": "rSINsBmcPlof"
      }
    },
    {
      "cell_type": "code",
      "source": [
        "fruit=[\"mango\",\"cherry\",\"apple\"]\n",
        "g=fruit.copy()\n",
        "print(g)\n"
      ],
      "metadata": {
        "colab": {
          "base_uri": "https://localhost:8080/"
        },
        "id": "2IQwMI95Pvcn",
        "outputId": "8f5920a3-9bc2-4802-841c-94056a4cfe74"
      },
      "execution_count": 26,
      "outputs": [
        {
          "output_type": "stream",
          "name": "stdout",
          "text": [
            "['mango', 'cherry', 'apple']\n"
          ]
        }
      ]
    },
    {
      "cell_type": "markdown",
      "source": [
        "extend() : Adds elements of the list to the end of current list"
      ],
      "metadata": {
        "id": "m83ppLP2P9mu"
      }
    },
    {
      "cell_type": "code",
      "source": [
        "color=[\"red\",\"blue\",\"pink\"]\n",
        "cars=[\"BMW\",\"ALTO\",\"Ford\"]\n",
        "color.extend(cars)\n",
        "print(color)"
      ],
      "metadata": {
        "colab": {
          "base_uri": "https://localhost:8080/"
        },
        "id": "ChIGfh0NQJBB",
        "outputId": "5678e4b2-4a3c-4a56-cb0a-e85715688d9f"
      },
      "execution_count": 28,
      "outputs": [
        {
          "output_type": "stream",
          "name": "stdout",
          "text": [
            "['red', 'blue', 'pink', 'BMW', 'ALTO', 'Ford']\n"
          ]
        }
      ]
    },
    {
      "cell_type": "markdown",
      "source": [
        "pop() : Remove second element of list"
      ],
      "metadata": {
        "id": "ESN0sPuKQbnh"
      }
    },
    {
      "cell_type": "code",
      "source": [
        "a=[\"m\",\"b\",\"n\",\"u\"]\n",
        "a.pop(2)\n",
        "print(a)"
      ],
      "metadata": {
        "colab": {
          "base_uri": "https://localhost:8080/"
        },
        "id": "rLoXyS7IQMeH",
        "outputId": "1f3e8ced-3327-44c5-ff2c-16d23c52fdee"
      },
      "execution_count": 29,
      "outputs": [
        {
          "output_type": "stream",
          "name": "stdout",
          "text": [
            "['m', 'b', 'u']\n"
          ]
        }
      ]
    },
    {
      "cell_type": "markdown",
      "source": [
        "remove() : Removes the first item with specifies value"
      ],
      "metadata": {
        "id": "OscmtCHNRMiy"
      }
    },
    {
      "cell_type": "code",
      "source": [
        "b=[1,2,3,4,5]\n",
        "b.remove(3)\n",
        "print(b)"
      ],
      "metadata": {
        "colab": {
          "base_uri": "https://localhost:8080/"
        },
        "id": "PzEOLrnWRW7Y",
        "outputId": "70b7c3ce-d684-408b-c71c-c1a5a350f83c"
      },
      "execution_count": 30,
      "outputs": [
        {
          "output_type": "stream",
          "name": "stdout",
          "text": [
            "[1, 2, 4, 5]\n"
          ]
        }
      ]
    },
    {
      "cell_type": "markdown",
      "source": [
        "sort(): Sorts the list alphabetically"
      ],
      "metadata": {
        "id": "BnVGlhsDRlBx"
      }
    },
    {
      "cell_type": "code",
      "source": [
        "c=[4,9,0,5,2]\n",
        "c.sort()\n",
        "print(c)"
      ],
      "metadata": {
        "colab": {
          "base_uri": "https://localhost:8080/"
        },
        "id": "_2rpt1DCRpB8",
        "outputId": "a1163ba4-f6ec-4edd-9ec5-b660e386885a"
      },
      "execution_count": 31,
      "outputs": [
        {
          "output_type": "stream",
          "name": "stdout",
          "text": [
            "[0, 2, 4, 5, 9]\n"
          ]
        }
      ]
    },
    {
      "cell_type": "markdown",
      "source": [
        "**3.Built-In methods of Tuple**"
      ],
      "metadata": {
        "id": "XopPN3WeRxWG"
      }
    },
    {
      "cell_type": "markdown",
      "source": [
        "count() : Returns number of times a specifies value occurs in a tuple"
      ],
      "metadata": {
        "id": "7JSQ2QTmR5T1"
      }
    },
    {
      "cell_type": "code",
      "source": [
        "tuple_ex=(2,4,6,8,2,9,10)\n",
        "a=tuple_ex.count(2)\n",
        "print(a)"
      ],
      "metadata": {
        "colab": {
          "base_uri": "https://localhost:8080/"
        },
        "id": "mmFWm1xtSD5q",
        "outputId": "28ff87c9-87da-4dbe-8505-de4780f83b14"
      },
      "execution_count": 32,
      "outputs": [
        {
          "output_type": "stream",
          "name": "stdout",
          "text": [
            "2\n"
          ]
        }
      ]
    },
    {
      "cell_type": "markdown",
      "source": [
        "index() : Search for the first occurence of the value 3, and returns its position"
      ],
      "metadata": {
        "id": "7s2rBPPOSXbw"
      }
    },
    {
      "cell_type": "code",
      "source": [
        "a=(2,5,7,8,3,7,2,5)\n",
        "x=a.index(7)\n",
        "print(x)"
      ],
      "metadata": {
        "colab": {
          "base_uri": "https://localhost:8080/"
        },
        "id": "zV0s170FSiNe",
        "outputId": "17e50f9e-6d93-4055-d51c-88bacb23c5fb"
      },
      "execution_count": 36,
      "outputs": [
        {
          "output_type": "stream",
          "name": "stdout",
          "text": [
            "2\n"
          ]
        }
      ]
    },
    {
      "cell_type": "markdown",
      "source": [
        "**4. Built-In methods of Set**"
      ],
      "metadata": {
        "id": "8P3TEzKTS_PR"
      }
    },
    {
      "cell_type": "markdown",
      "source": [
        "add() : Adds an element to the set"
      ],
      "metadata": {
        "id": "OTkQUxJoTGpk"
      }
    },
    {
      "cell_type": "code",
      "source": [
        "a={\"a1\",\"a2\",\"b1\",\"c1\"}\n",
        "a.add(\"c2\")\n",
        "print(a)"
      ],
      "metadata": {
        "colab": {
          "base_uri": "https://localhost:8080/"
        },
        "id": "eyaGNBtiTPuP",
        "outputId": "17e14fdd-4a59-46c9-8465-cea472da3447"
      },
      "execution_count": 37,
      "outputs": [
        {
          "output_type": "stream",
          "name": "stdout",
          "text": [
            "{'a1', 'c1', 'a2', 'c2', 'b1'}\n"
          ]
        }
      ]
    },
    {
      "cell_type": "markdown",
      "source": [
        "clear() : Removes all the elements from the set"
      ],
      "metadata": {
        "id": "rOVixgdTTg0f"
      }
    },
    {
      "cell_type": "code",
      "source": [
        "x={\"a\",\"b\",\"c\",\"d\"}\n",
        "x.clear()\n",
        "print(x)"
      ],
      "metadata": {
        "colab": {
          "base_uri": "https://localhost:8080/"
        },
        "id": "shzCGBYPX9P_",
        "outputId": "4411c258-3455-4f46-bb02-ecf3d06b3a64"
      },
      "execution_count": 38,
      "outputs": [
        {
          "output_type": "stream",
          "name": "stdout",
          "text": [
            "set()\n"
          ]
        }
      ]
    },
    {
      "cell_type": "markdown",
      "source": [
        "discard() : Remove the specified item"
      ],
      "metadata": {
        "id": "ZTptdke6YHeU"
      }
    },
    {
      "cell_type": "code",
      "source": [
        "v={1,2,3,4,5}\n",
        "v.discard(3)\n",
        "print(v)"
      ],
      "metadata": {
        "colab": {
          "base_uri": "https://localhost:8080/"
        },
        "id": "jcPx1Ej4YMXt",
        "outputId": "e5dbf604-aea4-4eff-a6a0-249d7ce41492"
      },
      "execution_count": 39,
      "outputs": [
        {
          "output_type": "stream",
          "name": "stdout",
          "text": [
            "{1, 2, 4, 5}\n"
          ]
        }
      ]
    },
    {
      "cell_type": "markdown",
      "source": [
        "issuperset() : Returns whether this set contains another set or not"
      ],
      "metadata": {
        "id": "Ip_z-uSMYUZA"
      }
    },
    {
      "cell_type": "code",
      "source": [
        "a={1,3,5,7}\n",
        "b={5,7}\n",
        "c=a.issuperset(b)\n",
        "print(c)"
      ],
      "metadata": {
        "colab": {
          "base_uri": "https://localhost:8080/"
        },
        "id": "kchhcr81Ydzo",
        "outputId": "cf558db4-3860-4b86-a5d5-32896d3e60f3"
      },
      "execution_count": 41,
      "outputs": [
        {
          "output_type": "stream",
          "name": "stdout",
          "text": [
            "True\n"
          ]
        }
      ]
    },
    {
      "cell_type": "markdown",
      "source": [
        "symmetric_difference() : Returns a set with the symmetric differences of two sets"
      ],
      "metadata": {
        "id": "P-B5JDx3Y0d1"
      }
    },
    {
      "cell_type": "code",
      "source": [
        "a={\"x\",\"m\",\"g\",\"n\"}\n",
        "b={\"w\",\"x\",\"y\",\"z\"}\n",
        "c=a.symmetric_difference(b)\n",
        "print(c)"
      ],
      "metadata": {
        "colab": {
          "base_uri": "https://localhost:8080/"
        },
        "id": "uCClb3IUZA-g",
        "outputId": "880af7eb-0596-4b15-be14-55f4c504d58d"
      },
      "execution_count": 42,
      "outputs": [
        {
          "output_type": "stream",
          "name": "stdout",
          "text": [
            "{'z', 'y', 'w', 'n', 'm', 'g'}\n"
          ]
        }
      ]
    },
    {
      "cell_type": "markdown",
      "source": [
        "**Built-In methods of Dictionary**"
      ],
      "metadata": {
        "id": "1fo5Ynf1ZbII"
      }
    },
    {
      "cell_type": "markdown",
      "source": [
        "get() : Returns the value of specified key"
      ],
      "metadata": {
        "id": "uJJeC41lZhF9"
      }
    },
    {
      "cell_type": "code",
      "source": [
        "data={\"name\":\"Shivani\",\"Branch\":\"IT\",\"Year\":2020}\n",
        "a=data.get(\"name\")\n",
        "print(a)"
      ],
      "metadata": {
        "colab": {
          "base_uri": "https://localhost:8080/"
        },
        "id": "AvywcKZpb8kN",
        "outputId": "ca0b2a4b-a32b-4a99-80b4-f6fa70d88a83"
      },
      "execution_count": 43,
      "outputs": [
        {
          "output_type": "stream",
          "name": "stdout",
          "text": [
            "Shivani\n"
          ]
        }
      ]
    },
    {
      "cell_type": "markdown",
      "source": [
        "pop() : Removes the element with specifies key"
      ],
      "metadata": {
        "id": "pLnv7YojcooP"
      }
    },
    {
      "cell_type": "code",
      "source": [
        "data1={\"color\":\"Red\",\"Fruit\":\"Mango\"}\n",
        "data1.pop(\"Fruit\")\n",
        "print(data1)"
      ],
      "metadata": {
        "colab": {
          "base_uri": "https://localhost:8080/"
        },
        "id": "HQ58NrPIdPzO",
        "outputId": "89abfe49-7fd5-475a-8fea-9e1dabad7dd0"
      },
      "execution_count": 44,
      "outputs": [
        {
          "output_type": "stream",
          "name": "stdout",
          "text": [
            "{'color': 'Red'}\n"
          ]
        }
      ]
    },
    {
      "cell_type": "markdown",
      "source": [
        "values(): Returns list of all the values in the dictionary"
      ],
      "metadata": {
        "id": "0q6ay1KMe83k"
      }
    },
    {
      "cell_type": "code",
      "source": [
        "a={\"name\":\"Shivani\",\"Hobby\":\"Singing\"}\n",
        "b=a.values()\n",
        "print(b)"
      ],
      "metadata": {
        "colab": {
          "base_uri": "https://localhost:8080/"
        },
        "id": "7vwLe3tifGRQ",
        "outputId": "1038ef84-e197-4b5e-ef1b-fd36fa613bc9"
      },
      "execution_count": 45,
      "outputs": [
        {
          "output_type": "stream",
          "name": "stdout",
          "text": [
            "dict_values(['Shivani', 'Singing'])\n"
          ]
        }
      ]
    },
    {
      "cell_type": "code",
      "source": [
        ""
      ],
      "metadata": {
        "id": "AcJKuVeGR4m3"
      },
      "execution_count": null,
      "outputs": []
    },
    {
      "cell_type": "markdown",
      "source": [
        "items(): Returns a list containig a tuple for each key value pair"
      ],
      "metadata": {
        "id": "bmcok-OdfVrv"
      }
    },
    {
      "cell_type": "code",
      "source": [
        "a={\"name\":\"Shivu\",\"Std\":\"TY\"}\n",
        "v=a.items()\n",
        "print(v)"
      ],
      "metadata": {
        "colab": {
          "base_uri": "https://localhost:8080/"
        },
        "id": "-wqk1XTNfd2y",
        "outputId": "906e4bba-34c3-44a9-8f9b-67df2e479dc9"
      },
      "execution_count": 46,
      "outputs": [
        {
          "output_type": "stream",
          "name": "stdout",
          "text": [
            "dict_items([('name', 'Shivu'), ('Std', 'TY')])\n"
          ]
        }
      ]
    },
    {
      "cell_type": "markdown",
      "source": [
        "copy() : Returns copy of the dictionary"
      ],
      "metadata": {
        "id": "kInRU2M7frAD"
      }
    },
    {
      "cell_type": "code",
      "source": [
        "b={\"color\":\"red\",\"shape\":\"Triangle\",\"size\":\"small\"}\n",
        "c=b.copy()\n",
        "print(c)"
      ],
      "metadata": {
        "colab": {
          "base_uri": "https://localhost:8080/"
        },
        "id": "rOVKNzdhfx8P",
        "outputId": "d80ad390-c87e-4832-a6fa-cbdb180a1355"
      },
      "execution_count": 47,
      "outputs": [
        {
          "output_type": "stream",
          "name": "stdout",
          "text": [
            "{'color': 'red', 'shape': 'Triangle', 'size': 'small'}\n"
          ]
        }
      ]
    }
  ]
}