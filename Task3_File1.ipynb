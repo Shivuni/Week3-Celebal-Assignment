{
  "cells": [
    {
      "cell_type": "markdown",
      "source": [
        "***DOCUMENT 1 ***\n",
        "\n",
        "1.   Iterating(for loop) using list,tuple,set and dictionary\n",
        "2.   Membership Test(in,not in)using List,Tuple,Set and Dictionary\n",
        "3.   Indexing using List and Tuple\n",
        "4.   Negative Indexing using List and Tuple\n",
        "5.   Slicing using List and Tuple\n",
        "\n",
        "\n"
      ],
      "metadata": {
        "id": "rZ7cHR03mVHr"
      }
    },
    {
      "cell_type": "markdown",
      "metadata": {
        "id": "6Uofb6mA95-f"
      },
      "source": [
        "**ITERATING FOR LOOP USING LIST**"
      ]
    },
    {
      "cell_type": "code",
      "execution_count": null,
      "metadata": {
        "colab": {
          "base_uri": "https://localhost:8080/"
        },
        "id": "rARvkJeR-aKG",
        "outputId": "0b09d14e-8db2-4862-ae2e-334ab73b7120"
      },
      "outputs": [
        {
          "name": "stdout",
          "output_type": "stream",
          "text": [
            "2\n",
            "4\n",
            "6\n",
            "8\n",
            "20\n"
          ]
        }
      ],
      "source": [
        "list_ex=[2,4,6,8,20]\n",
        "\n",
        "for ele in list_ex:\n",
        "  print(ele)\n",
        "  "
      ]
    },
    {
      "cell_type": "markdown",
      "metadata": {
        "id": "Mk18rjFqAoXo"
      },
      "source": [
        "**ITERATING FOR LOOP USING TUPLE**"
      ]
    },
    {
      "cell_type": "code",
      "execution_count": null,
      "metadata": {
        "colab": {
          "base_uri": "https://localhost:8080/"
        },
        "id": "M0gGBe_sAw_g",
        "outputId": "18df1cb9-a1ca-476b-98ad-5d5bd17a3630"
      },
      "outputs": [
        {
          "name": "stdout",
          "output_type": "stream",
          "text": [
            "Shivani\n",
            "Praful\n",
            "Shah\n"
          ]
        }
      ],
      "source": [
        "tuple_ex=(\"Shivani\",\"Praful\",\"Shah\")\n",
        "\n",
        "for ele in tuple_ex:\n",
        "  print(ele)"
      ]
    },
    {
      "cell_type": "markdown",
      "metadata": {
        "id": "zcmYcyiYBKY_"
      },
      "source": [
        "**ITERATING FOR LOOP USING SET**"
      ]
    },
    {
      "cell_type": "code",
      "execution_count": null,
      "metadata": {
        "colab": {
          "base_uri": "https://localhost:8080/"
        },
        "id": "h8FwMqEgBTOH",
        "outputId": "93be0cf8-a1a1-4677-838b-dd13d4a9170d"
      },
      "outputs": [
        {
          "name": "stdout",
          "output_type": "stream",
          "text": [
            "S\n",
            "I\n",
            "A\n",
            "V\n",
            "N\n",
            "H\n"
          ]
        }
      ],
      "source": [
        "set_ex=set(\"SHIVANI\")\n",
        "for ele in set_ex:\n",
        "  print(ele)"
      ]
    },
    {
      "cell_type": "markdown",
      "metadata": {
        "id": "mFmcQdghBu8I"
      },
      "source": [
        "**ITERATING FOR LOOP USING DICTIONARY**"
      ]
    },
    {
      "cell_type": "code",
      "execution_count": null,
      "metadata": {
        "id": "0MwvCZuWDoqu"
      },
      "outputs": [],
      "source": [
        ""
      ]
    },
    {
      "cell_type": "code",
      "execution_count": null,
      "metadata": {
        "colab": {
          "base_uri": "https://localhost:8080/"
        },
        "id": "j9800V41CJVI",
        "outputId": "ae3c8529-d839-4c72-91e8-d3d5bd9be429"
      },
      "outputs": [
        {
          "name": "stdout",
          "output_type": "stream",
          "text": [
            "Name\n",
            "Branch\n"
          ]
        }
      ],
      "source": [
        "dict_ex={\"Name\":\"Shivani\",\"Branch\":\"IT\"}\n",
        "\n",
        "for ele in dict_ex:\n",
        "  print(ele) "
      ]
    },
    {
      "cell_type": "markdown",
      "metadata": {
        "id": "hdkknHOtDZta"
      },
      "source": [
        "**Membership Test (In,not in) using List**"
      ]
    },
    {
      "cell_type": "code",
      "execution_count": null,
      "metadata": {
        "colab": {
          "base_uri": "https://localhost:8080/"
        },
        "id": "cl3Iws7iCxHB",
        "outputId": "7af1873d-e0a1-477c-962d-76045494e89a"
      },
      "outputs": [
        {
          "name": "stdout",
          "output_type": "stream",
          "text": [
            "False\n"
          ]
        }
      ],
      "source": [
        "a= 5\n",
        "my_list=[2,4,6,8]\n",
        "print(a in my_list)"
      ]
    },
    {
      "cell_type": "code",
      "execution_count": null,
      "metadata": {
        "colab": {
          "base_uri": "https://localhost:8080/"
        },
        "id": "rCDYiV3qwMF5",
        "outputId": "cfaa8189-3525-4c8c-dab2-4ffee9f83732"
      },
      "outputs": [
        {
          "name": "stdout",
          "output_type": "stream",
          "text": [
            "True\n"
          ]
        }
      ],
      "source": [
        "b=2\n",
        "my_list=[1,3,4]\n",
        "print(b not in my_list)"
      ]
    },
    {
      "cell_type": "markdown",
      "metadata": {
        "id": "4-9gP7DDvGxD"
      },
      "source": [
        "**Membership Test (In,not in) using Tuple**"
      ]
    },
    {
      "cell_type": "code",
      "execution_count": null,
      "metadata": {
        "colab": {
          "base_uri": "https://localhost:8080/"
        },
        "id": "xEXd0xRcvR7d",
        "outputId": "c1485fdf-ce94-422a-9b34-fe4c951c4383"
      },
      "outputs": [
        {
          "name": "stdout",
          "output_type": "stream",
          "text": [
            "True\n"
          ]
        }
      ],
      "source": [
        "q= (15,20,25)\n",
        "print(20 in q)"
      ]
    },
    {
      "cell_type": "code",
      "execution_count": null,
      "metadata": {
        "colab": {
          "base_uri": "https://localhost:8080/"
        },
        "id": "6tSX1D81wEz8",
        "outputId": "863f1b35-3d71-4b5f-e6e4-5df413fec820"
      },
      "outputs": [
        {
          "name": "stdout",
          "output_type": "stream",
          "text": [
            "False\n"
          ]
        }
      ],
      "source": [
        "r=(1,2,3)\n",
        "print(3 not in r)"
      ]
    },
    {
      "cell_type": "markdown",
      "metadata": {
        "id": "-wSIfiZMvjB-"
      },
      "source": [
        "**Membership Test(In,not in)using Set**"
      ]
    },
    {
      "cell_type": "code",
      "execution_count": null,
      "metadata": {
        "colab": {
          "base_uri": "https://localhost:8080/"
        },
        "id": "u3YT7p5lvrtV",
        "outputId": "4b085106-c295-47d4-aff9-780284a80f4c"
      },
      "outputs": [
        {
          "name": "stdout",
          "output_type": "stream",
          "text": [
            "True\n"
          ]
        }
      ],
      "source": [
        "s={1,2,3,4,5}\n",
        "print(3 in s)"
      ]
    },
    {
      "cell_type": "code",
      "execution_count": null,
      "metadata": {
        "colab": {
          "base_uri": "https://localhost:8080/"
        },
        "id": "zGkWmE_7v6fY",
        "outputId": "7cdf6459-c3d7-4604-fefb-f38a2ec318fe"
      },
      "outputs": [
        {
          "name": "stdout",
          "output_type": "stream",
          "text": [
            "False\n"
          ]
        }
      ],
      "source": [
        "d={1,3,5,7}\n",
        "print(1 not in d)"
      ]
    },
    {
      "cell_type": "markdown",
      "metadata": {
        "id": "j2TL1IRWwada"
      },
      "source": [
        "**Membership Test(In,not in)using Dictionary**"
      ]
    },
    {
      "cell_type": "code",
      "execution_count": null,
      "metadata": {
        "colab": {
          "base_uri": "https://localhost:8080/"
        },
        "id": "15DD4ptHwkzQ",
        "outputId": "4f55f030-7c8c-447e-8d45-bc17f4807a2f"
      },
      "outputs": [
        {
          "name": "stdout",
          "output_type": "stream",
          "text": [
            "True\n",
            "False\n"
          ]
        }
      ],
      "source": [
        "a={\"Apple\",\"Mango\",\"Banana\"}\n",
        "b={\"Fruit1\",\"Fruit2\",\"Fruit3\"}\n",
        "\n",
        "print(\"Mango\" in a)\n",
        "print(\"Fruit1\" not in b)"
      ]
    },
    {
      "cell_type": "markdown",
      "metadata": {
        "id": "PiOp1XtExNyc"
      },
      "source": [
        "**Indexing in List**"
      ]
    },
    {
      "cell_type": "code",
      "execution_count": null,
      "metadata": {
        "colab": {
          "base_uri": "https://localhost:8080/"
        },
        "id": "wzrTtvTCxX1d",
        "outputId": "0e4c6b45-e4d3-4dc9-9741-f81c3eaa2303"
      },
      "outputs": [
        {
          "name": "stdout",
          "output_type": "stream",
          "text": [
            "0\n",
            "2\n"
          ]
        }
      ],
      "source": [
        "list_ex=[\"Shivani\",\"Shah\"]\n",
        "print(list_ex.index(\"Shivani\"))\n",
        "list=[\"a\",\"i\",\"o\",\"u\"]\n",
        "print(list.index(\"o\"))"
      ]
    },
    {
      "cell_type": "markdown",
      "metadata": {
        "id": "JOGdqTphyaw4"
      },
      "source": [
        "**Indexing in Tuples**"
      ]
    },
    {
      "cell_type": "code",
      "execution_count": null,
      "metadata": {
        "colab": {
          "base_uri": "https://localhost:8080/"
        },
        "id": "ncEx_HPQyeOk",
        "outputId": "9331fada-fd16-4e98-b3f5-f5710f031d14"
      },
      "outputs": [
        {
          "name": "stdout",
          "output_type": "stream",
          "text": [
            "4\n"
          ]
        }
      ],
      "source": [
        "Tuple_ex=(\"s\",\"h\",\"i\",\"v\",\"u\")\n",
        "print(Tuple_ex.index(\"u\"))"
      ]
    },
    {
      "cell_type": "markdown",
      "metadata": {
        "id": "qII6qi9Ay-UF"
      },
      "source": [
        "**Indexing in Dictionary**"
      ]
    },
    {
      "cell_type": "markdown",
      "metadata": {
        "id": "A6Yx99ho-Y50"
      },
      "source": [
        ""
      ]
    },
    {
      "cell_type": "markdown",
      "metadata": {
        "id": "MJmDH3Q1LNwY"
      },
      "source": [
        "**Negative Indexing using List**"
      ]
    },
    {
      "cell_type": "code",
      "execution_count": null,
      "metadata": {
        "colab": {
          "base_uri": "https://localhost:8080/"
        },
        "id": "LNEi6tI1LTKP",
        "outputId": "4dd6a2f2-b543-4d7d-e668-745f0b67513a"
      },
      "outputs": [
        {
          "name": "stdout",
          "output_type": "stream",
          "text": [
            "College\n"
          ]
        }
      ],
      "source": [
        "a=[\"Sanjivani\",\"College\",\"Of\",\"Engineering\"]\n",
        "print(a[-3])"
      ]
    },
    {
      "cell_type": "markdown",
      "metadata": {
        "id": "zgWqBtfELpEI"
      },
      "source": [
        "**Negative Indexing using Tuple**"
      ]
    },
    {
      "cell_type": "code",
      "execution_count": null,
      "metadata": {
        "colab": {
          "base_uri": "https://localhost:8080/"
        },
        "id": "QVWVuJxQLsmF",
        "outputId": "1fb456a8-d669-494f-fb8b-c22418bc579c"
      },
      "outputs": [
        {
          "name": "stdout",
          "output_type": "stream",
          "text": [
            "yellow\n"
          ]
        }
      ],
      "source": [
        "B=(\"red\",\"yellow\",\"pink\")\n",
        "print(B[-2])\n"
      ]
    },
    {
      "cell_type": "markdown",
      "source": [
        "**Slicing List**"
      ],
      "metadata": {
        "id": "JG23oxKvT2R0"
      }
    },
    {
      "cell_type": "code",
      "source": [
        "lt=[1,3,5,7,9,10,4,2,6]\n",
        "print(lt[:3])\n",
        "print(lt[::])\n",
        "print(lt[5:])\n",
        "print(lt[2:7])\n",
        "print(lt[2:8:2])"
      ],
      "metadata": {
        "colab": {
          "base_uri": "https://localhost:8080/"
        },
        "id": "12Dq2yi_T5_N",
        "outputId": "d0fa8081-52b7-4a7a-a616-444d7b3d696e"
      },
      "execution_count": null,
      "outputs": [
        {
          "output_type": "stream",
          "name": "stdout",
          "text": [
            "[1, 3, 5]\n",
            "[1, 3, 5, 7, 9, 10, 4, 2, 6]\n",
            "[10, 4, 2, 6]\n",
            "[5, 7, 9, 10, 4]\n",
            "[5, 9, 4]\n"
          ]
        }
      ]
    },
    {
      "cell_type": "markdown",
      "source": [
        "**Slicing Tuple**"
      ],
      "metadata": {
        "id": "Kz-ODm_3Vhzb"
      }
    },
    {
      "cell_type": "code",
      "source": [
        "tuple=(1,3,5,6,4,2,7,9,8)\n",
        "print(tuple[2:5])\n",
        "print(tuple[::])\n",
        "print(tuple[:4])\n"
      ],
      "metadata": {
        "colab": {
          "base_uri": "https://localhost:8080/"
        },
        "id": "iuiQYfxuVkjm",
        "outputId": "0b3518fb-b33d-4fad-fa0b-2bcb31540507"
      },
      "execution_count": null,
      "outputs": [
        {
          "output_type": "stream",
          "name": "stdout",
          "text": [
            "(5, 6, 4)\n",
            "(1, 3, 5, 6, 4, 2, 7, 9, 8)\n",
            "(1, 3, 5, 6)\n"
          ]
        }
      ]
    },
    {
      "cell_type": "markdown",
      "source": [
        "**Accessing Nested List using slicing**"
      ],
      "metadata": {
        "id": "Bqvs6rCLlHpt"
      }
    },
    {
      "cell_type": "code",
      "source": [
        "a=[[1,2,3],[5,6,7],[8,9,0]]\n",
        "print(a)\n",
        "x=a[1:3]\n",
        "print(x)\n"
      ],
      "metadata": {
        "colab": {
          "base_uri": "https://localhost:8080/"
        },
        "id": "o3gpsoeOlRql",
        "outputId": "df391e84-2ba5-46af-d76c-4083d2e53474"
      },
      "execution_count": 54,
      "outputs": [
        {
          "output_type": "stream",
          "name": "stdout",
          "text": [
            "[[1, 2, 3], [5, 6, 7], [8, 9, 0]]\n",
            "[[5, 6, 7], [8, 9, 0]]\n"
          ]
        }
      ]
    },
    {
      "cell_type": "markdown",
      "source": [
        "**Accessing Nested Tuple using slicing**"
      ],
      "metadata": {
        "id": "NAdfQM89l5tk"
      }
    },
    {
      "cell_type": "code",
      "source": [
        "tuple=((1,3,5),(6,4,2),(7,9,8))\n",
        "print(tuple)\n",
        "b=tuple[1:3]\n",
        "print(b)"
      ],
      "metadata": {
        "colab": {
          "base_uri": "https://localhost:8080/"
        },
        "id": "Arva8ZlPl_gG",
        "outputId": "654fc87e-3d0c-440e-b9c2-2bf2cfda70fe"
      },
      "execution_count": 55,
      "outputs": [
        {
          "output_type": "stream",
          "name": "stdout",
          "text": [
            "((1, 3, 5), (6, 4, 2), (7, 9, 8))\n",
            "((6, 4, 2), (7, 9, 8))\n"
          ]
        }
      ]
    }
  ],
  "metadata": {
    "colab": {
      "collapsed_sections": [],
      "name": "Task3_File1.ipynb",
      "provenance": []
    },
    "kernelspec": {
      "display_name": "Python 3",
      "name": "python3"
    },
    "language_info": {
      "name": "python"
    }
  },
  "nbformat": 4,
  "nbformat_minor": 0
}