{
  "nbformat": 4,
  "nbformat_minor": 0,
  "metadata": {
    "colab": {
      "name": "Task3_File2.ipynb",
      "provenance": [],
      "collapsed_sections": []
    },
    "kernelspec": {
      "name": "python3",
      "display_name": "Python 3"
    },
    "language_info": {
      "name": "python"
    }
  },
  "cells": [
    {
      "cell_type": "markdown",
      "source": [
        "**Document 2**\n",
        "\n",
        "1.Indexing using Dictionary\n",
        "\n",
        "2.Negative Indexing using Dictionary\n",
        "\n",
        "3.Slicing using Dictionary \n",
        "\n"
      ],
      "metadata": {
        "id": "rMNmqKtdZiVA"
      }
    },
    {
      "cell_type": "markdown",
      "source": [
        "Slicing using Dictionary"
      ],
      "metadata": {
        "id": "LEj3HDr8eoRm"
      }
    },
    {
      "cell_type": "code",
      "execution_count": null,
      "metadata": {
        "colab": {
          "base_uri": "https://localhost:8080/"
        },
        "id": "Gs2do0tSZRDx",
        "outputId": "ff2b67c6-5c01-4642-8250-c5dfb2645af6"
      },
      "outputs": [
        {
          "output_type": "stream",
          "name": "stdout",
          "text": [
            "{1: 'p', 2: 'q'}\n"
          ]
        }
      ],
      "source": [
        "import itertools\n",
        "a={1:'p',2:'q',3:'r',4:'s'}\n",
        "res = dict(itertools.islice(a.items(),2))\n",
        "print(res)"
      ]
    },
    {
      "cell_type": "markdown",
      "source": [
        "Indexing using Dictionary"
      ],
      "metadata": {
        "id": "s6_qURkpe-Je"
      }
    },
    {
      "cell_type": "code",
      "source": [
        "my_dict = {\"m\": 1, \"l\": 2}\n",
        "\n",
        "new_key = list(my_dict)\n",
        "\n",
        "index_key = new_key[0]\n",
        "\n",
        "print(index_key)"
      ],
      "metadata": {
        "colab": {
          "base_uri": "https://localhost:8080/"
        },
        "id": "CpaoWua4ZWqn",
        "outputId": "988653d9-94d9-47de-e2d5-e3057c2dfb0e"
      },
      "execution_count": null,
      "outputs": [
        {
          "output_type": "stream",
          "name": "stdout",
          "text": [
            "m\n"
          ]
        }
      ]
    },
    {
      "cell_type": "markdown",
      "source": [
        "Negative Indexing using Dictionary"
      ],
      "metadata": {
        "id": "jIJxDXAUfCdu"
      }
    },
    {
      "cell_type": "code",
      "source": [
        "dict={'a':1,'b':2,'c':3}\n",
        "x=list(dict.items())\n",
        "print(x[-1])"
      ],
      "metadata": {
        "colab": {
          "base_uri": "https://localhost:8080/"
        },
        "id": "MxWOblXIZYvQ",
        "outputId": "ba9c9911-7f5a-4276-f7a1-da12d8e18cba"
      },
      "execution_count": null,
      "outputs": [
        {
          "output_type": "stream",
          "name": "stdout",
          "text": [
            "('c', 3)\n"
          ]
        }
      ]
    },
    {
      "cell_type": "markdown",
      "source": [
        "Indexing using Dictionary"
      ],
      "metadata": {
        "id": "r_OlnEvofF7t"
      }
    },
    {
      "cell_type": "code",
      "source": [
        "a_dict={\"a\":1,\"b\":2}\n",
        "keys_list=list(a_dict)\n",
        "a_key=keys_list[0]\n",
        "print(a_key)"
      ],
      "metadata": {
        "colab": {
          "base_uri": "https://localhost:8080/"
        },
        "id": "R6t1XeZHZdwm",
        "outputId": "2004fafb-c554-4e9d-845f-e914c4cae030"
      },
      "execution_count": null,
      "outputs": [
        {
          "output_type": "stream",
          "name": "stdout",
          "text": [
            "a\n"
          ]
        }
      ]
    }
  ]
}